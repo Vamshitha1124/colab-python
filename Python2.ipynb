{
  "nbformat": 4,
  "nbformat_minor": 0,
  "metadata": {
    "colab": {
      "provenance": [],
      "authorship_tag": "ABX9TyO6vzfrzXGwNcWi3Jv6Bdvg",
      "include_colab_link": true
    },
    "kernelspec": {
      "name": "python3",
      "display_name": "Python 3"
    },
    "language_info": {
      "name": "python"
    }
  },
  "cells": [
    {
      "cell_type": "markdown",
      "metadata": {
        "id": "view-in-github",
        "colab_type": "text"
      },
      "source": [
        "<a href=\"https://colab.research.google.com/github/Vamshitha1124/colab-python/blob/main/Python2.ipynb\" target=\"_parent\"><img src=\"https://colab.research.google.com/assets/colab-badge.svg\" alt=\"Open In Colab\"/></a>"
      ]
    },
    {
      "cell_type": "code",
      "source": [
        "from google.colab import drive\n",
        "drive.mount('/content/drive')\n"
      ],
      "metadata": {
        "colab": {
          "base_uri": "https://localhost:8080/"
        },
        "id": "fABTp-t1SCM_",
        "outputId": "36d77159-50a3-4925-8d75-d5a3fd1c268c"
      },
      "execution_count": 2,
      "outputs": [
        {
          "output_type": "stream",
          "name": "stdout",
          "text": [
            "Mounted at /content/drive\n"
          ]
        }
      ]
    },
    {
      "cell_type": "code",
      "source": [
        "a = input(\"enter a string\")\n",
        "c_list = list(a)\n",
        "del c_list[0]\n",
        "del c_list[3]\n",
        "c_list.reverse()\n",
        "result = ''.join(c_list)\n",
        "print(result)"
      ],
      "metadata": {
        "colab": {
          "base_uri": "https://localhost:8080/"
        },
        "id": "hqVA2vkaXG9z",
        "outputId": "be6b33ad-3883-45c6-cb2d-f44548379922"
      },
      "execution_count": 8,
      "outputs": [
        {
          "output_type": "stream",
          "name": "stdout",
          "text": [
            "enter a string python\n",
            "notyp\n"
          ]
        }
      ]
    },
    {
      "cell_type": "code",
      "source": [
        "a = int(input(\"Enter first number: \"))\n",
        "b = int(input(\"Enter second number: \"))\n",
        "print(\"Addition:\", a + b)\n",
        "print(\"Subtraction:\", a - b)\n",
        "print(\"Multiplication:\", a * b)\n",
        "print(\"Division:\", a / b if b != 0 else \"undefined (division by zero)\")\n"
      ],
      "metadata": {
        "colab": {
          "base_uri": "https://localhost:8080/"
        },
        "id": "a6No3P5pXOrn",
        "outputId": "359c818b-3b7e-48d4-a2e7-4065b99477e3"
      },
      "execution_count": 9,
      "outputs": [
        {
          "output_type": "stream",
          "name": "stdout",
          "text": [
            "Enter first number: 3\n",
            "Enter second number: 5\n",
            "Addition: 8\n",
            "Subtraction: -2\n",
            "Multiplication: 15\n",
            "Division: 0.6\n"
          ]
        }
      ]
    },
    {
      "cell_type": "code",
      "source": [
        "sentence = input(\"Enter a sentence: \")\n",
        "result = sentence.replace(\"python\", \"pythons\")\n",
        "print(result)\n"
      ],
      "metadata": {
        "colab": {
          "base_uri": "https://localhost:8080/"
        },
        "id": "5Rl-XEP8XZqR",
        "outputId": "9fd2890e-897c-45ef-a8ce-32bd7e6ecd4c"
      },
      "execution_count": 10,
      "outputs": [
        {
          "output_type": "stream",
          "name": "stdout",
          "text": [
            "Enter a sentence: i love playing python \n",
            "i love playing pythons \n"
          ]
        }
      ]
    },
    {
      "cell_type": "code",
      "source": [
        "\n",
        "score = float(input(\"Enter your class score: \"))\n",
        "if score >= 90:\n",
        "    grade = \"A\"\n",
        "elif score >= 80:\n",
        "    grade = \"B\"\n",
        "elif score >= 70:\n",
        "    grade = \"C\"\n",
        "elif score >= 60:\n",
        "    grade = \"D\"\n",
        "else:\n",
        "    grade = \"F\"\n",
        "\n",
        "print(\"Your grade is:\", grade)\n"
      ],
      "metadata": {
        "colab": {
          "base_uri": "https://localhost:8080/"
        },
        "id": "-wyQKodkYfL4",
        "outputId": "0606ab74-ba8d-4348-9339-aa79a0a6516c"
      },
      "execution_count": 11,
      "outputs": [
        {
          "output_type": "stream",
          "name": "stdout",
          "text": [
            "Enter your class score: 89.5\n",
            "Your grade is: B\n"
          ]
        }
      ]
    },
    {
      "cell_type": "code",
      "source": [
        "x = [23, 'Python', 23.98]\n",
        "print(x)\n",
        "types = [type(i) for i in x]\n",
        "print(types)\n"
      ],
      "metadata": {
        "colab": {
          "base_uri": "https://localhost:8080/"
        },
        "id": "FmvUF0QUYxzi",
        "outputId": "938cf342-97ef-4f58-8f62-08a948348fa5"
      },
      "execution_count": 12,
      "outputs": [
        {
          "output_type": "stream",
          "name": "stdout",
          "text": [
            "[23, 'Python', 23.98]\n",
            "[<class 'int'>, <class 'str'>, <class 'float'>]\n"
          ]
        }
      ]
    },
    {
      "cell_type": "code",
      "source": [
        "IT_companies = {'Facebook', 'Google', 'Microsoft', 'Apple', 'IBM', 'Oracle', 'Amazon'}\n",
        "A = {19, 22, 24, 20, 25, 26}\n",
        "B = {19, 22, 20, 25, 26, 24, 28, 27}\n",
        "age = [22, 19, 24, 25, 26, 24, 25, 24]\n",
        "#length\n",
        "print(\"Length of IT_companies:\", len(IT_companies))\n",
        "\n",
        "#Add 'Twitter'\n",
        "IT_companies.add(\"Twitter\")\n",
        "print(\"After adding Twitter:\", IT_companies)\n",
        "\n",
        "# Insert multiple IT companies at once\n",
        "IT_companies.update([\"TCS\", \"Infosys\", \"Wipro\"])\n",
        "print(\"After adding multiple companies:\", IT_companies)\n",
        "\n",
        "# Remove one of the companies\n",
        "IT_companies.remove(\"Oracle\")   # will raise error if not found\n",
        "print(\"After removing Oracle:\", IT_companies)\n",
        "\n",
        "# Difference between remove and discard\n",
        "print(\"Remove() throws error if element not found, discard() does not.\")\n",
        "\n",
        "# Join A and B\n",
        "print(\"A union B:\", A.union(B))\n",
        "\n",
        "# A intersection B\n",
        "print(\"A intersection B:\", A.intersection(B))\n",
        "\n",
        "# Is A subset of B\n",
        "print(\"Is A subset of B?:\", A.issubset(B))\n",
        "\n",
        "# Are A and B disjoint sets\n",
        "print(\"Are A and B disjoint?:\", A.isdisjoint(B))\n",
        "\n",
        "# Join A with B and B with A\n",
        "print(\"A union B:\", A.union(B))\n",
        "print(\"B union A:\", B.union(A))\n",
        "\n",
        "# Symmetric difference between A and B\n",
        "print(\"Symmetric difference:\", A.symmetric_difference(B))\n",
        "\n",
        "# Delete the sets completely\n",
        "del A\n",
        "del B\n",
        "\n",
        "#convert ages to a set and compare lengths\n",
        "age_set = set(age)\n",
        "print(\"Original list length:\", len(age))\n",
        "print(\"Set length (unique values):\", len(age_set))\n"
      ],
      "metadata": {
        "colab": {
          "base_uri": "https://localhost:8080/"
        },
        "id": "pfn744bOZHwR",
        "outputId": "a4303ba3-bb62-432a-a4a7-f37122ca253c"
      },
      "execution_count": 13,
      "outputs": [
        {
          "output_type": "stream",
          "name": "stdout",
          "text": [
            "Length of IT_companies: 7\n",
            "After adding Twitter: {'Google', 'Facebook', 'Amazon', 'Apple', 'Microsoft', 'Twitter', 'IBM', 'Oracle'}\n",
            "After adding multiple companies: {'Amazon', 'Infosys', 'Google', 'Apple', 'Microsoft', 'Twitter', 'IBM', 'Wipro', 'Facebook', 'TCS', 'Oracle'}\n",
            "After removing Oracle: {'Amazon', 'Infosys', 'Google', 'Apple', 'Microsoft', 'Twitter', 'IBM', 'Wipro', 'Facebook', 'TCS'}\n",
            "Remove() throws error if element not found, discard() does not.\n",
            "A union B: {19, 20, 22, 24, 25, 26, 27, 28}\n",
            "A intersection B: {19, 20, 22, 24, 25, 26}\n",
            "Is A subset of B?: True\n",
            "Are A and B disjoint?: False\n",
            "A union B: {19, 20, 22, 24, 25, 26, 27, 28}\n",
            "B union A: {19, 20, 22, 24, 25, 26, 27, 28}\n",
            "Symmetric difference: {27, 28}\n",
            "Original list length: 8\n",
            "Set length (unique values): 5\n"
          ]
        }
      ]
    }
  ]
}